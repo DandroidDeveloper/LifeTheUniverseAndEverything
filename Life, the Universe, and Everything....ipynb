{
 "cells": [
  {
   "cell_type": "markdown",
   "metadata": {},
   "source": [
    "<h1>Life, the Universe, and Everything</h1>"
   ]
  },
  {
   "cell_type": "markdown",
   "metadata": {},
   "source": [
    "<h2>Time</h2>\n",
    "<p>Imagine you place a pencil on it's tip.</p>"
   ]
  },
  {
   "cell_type": "markdown",
   "metadata": {},
   "source": [
    "<dif><img src = \"symmetry.png\" align = \"left\" width = \"400\"></img></div>"
   ]
  },
  {
   "cell_type": "markdown",
   "metadata": {},
   "source": [
    "<p>When you let go, the pencil will inevitably fall. When the pencil falls, it provides us with a sense of direction and scale. We can say move an arbitrary number of pencil lengths some arbitrary direction away from the pencil, and end up at a destination relative to the pencil. This is how symmetry breaking works in our Universe.</p>"
   ]
  },
  {
   "cell_type": "markdown",
   "metadata": {},
   "source": [
    "<br>\n",
    "<p>Space is comprised of an X, Y, and Z direction, and exists in the flow of time, T. This gives us the four dimensions we experience as reality. Now imagine this four dimensional fabric of space time without space or time in it.</p>"
   ]
  },
  {
   "cell_type": "markdown",
   "metadata": {},
   "source": [
    "<img src = \"space.jpg\" align = \"left\" width = \"400\"></img>"
   ]
  },
  {
   "cell_type": "markdown",
   "metadata": {},
   "source": [
    "<p>At the \"time\" of the Big Bang there was a super hot, super dense singularity, and physicists believe that, much like our pencil example, time spontaneously chose a direction and broke symmetry to begin our universe.</p>\n",
    "<img src = \"spacetime.png\" align = \"left\" width = \"400\"></img>"
   ]
  },
  {
   "cell_type": "markdown",
   "metadata": {},
   "source": [
    "<br>\n",
    "<p>When this singularity chose a direction for the flow of time, it spewed its contents in that direction, and if we fast-forward approximately fourteen billion years, we have the conditions for matter, and if we move perpendicular in space to the flow of time, we arrive at a tiny blue planet called Earth.</p>"
   ]
  },
  {
   "cell_type": "markdown",
   "metadata": {},
   "source": [
    "<img src = \"earth.jpg\" align = \"left\" width = \"400\"></img>"
   ]
  },
  {
   "cell_type": "markdown",
   "metadata": {},
   "source": [
    "<br>\n",
    "<p>The flow of time is not linear, however. Matter actually bends time and causes time to ripple, we observe these ripples as gravitational waves. In fact, the Earth is so dense that it actually bends the flow of time towards it's center to give us the gravity that keeps us from flying into space!</p>"
   ]
  },
  {
   "cell_type": "markdown",
   "metadata": {},
   "source": [
    "<p>So what is this matter stuff...</p>\n",
    "<br>\n",
    "<p>At each point in space time there is another internal space, with many dimensions, that are perpendicular to our three dimensions of space X, Y, and Z. This internal space is attached to space time and moves over it. For each different direction in this inner space, there is a corresponding different kind of elementary particle that can exist at a point in space time!</p>"
   ]
  },
  {
   "cell_type": "markdown",
   "metadata": {},
   "source": [
    "<h2>Higgs Field</h2>\n",
    "<img src = \"innerspace.png\" align = \"left\" width = \"400\"></img>"
   ]
  },
  {
   "cell_type": "markdown",
   "metadata": {},
   "source": [
    "<p>One very important part of this inner space are the four dimensions corresponding to the Higgs Field. Imagine the balls above to be perfectly smooth, 4d surfaces. Via symmetry breaking, we choose one direction to be special. This is very similar to how the flow of time becomes special in space time, but we are dealing with the internal space of particle physics now.</p>"
   ]
  },
  {
   "cell_type": "markdown",
   "metadata": {},
   "source": [
    "<img src = \"direction.png\" align = \"left\" width = \"200\">"
   ]
  },
  {
   "cell_type": "markdown",
   "metadata": {},
   "source": [
    "<br>\n",
    "<p>With the higgs direction picked out, we now have what is referred to as the Higgs Background.</p>\n",
    "<img src = \"higgsfield.png\" align = \"left\" width = \"400\"></img>"
   ]
  },
  {
   "cell_type": "markdown",
   "metadata": {},
   "source": [
    "<br>\n",
    "<p>Just like time can ripple, this Higgs Field can also ripple. A ripple, in the direction of the Higgs Field over space time, creates what we see as a Higgs Boson! This particle has actually been popped into existence in the Large Hadron Collider at Geneva."
   ]
  },
  {
   "cell_type": "markdown",
   "metadata": {},
   "source": [
    "<br>\n",
    "<p>To understand how this validated theory explains how particles get mass, you have to understand how the Higgs shape twists around the inner space of elementary particles, specifically in regards to the Electroweak Force...</p>"
   ]
  },
  {
   "cell_type": "markdown",
   "metadata": {},
   "source": [
    "<p>Enter the Strong Nuclear Force, the Electroweak Force, and Gravity!</p>\n",
    "<img src = \"innerspacecomplete.png\" align = \"left\" width = \"400\"></img>"
   ]
  },
  {
   "cell_type": "markdown",
   "metadata": {},
   "source": [
    "<h2>Electroweak Force</h2>\n",
    "<p>The Electroweak Force is comprised of weak charge, W and hypercharge, &gamma;.</p>"
   ]
  },
  {
   "cell_type": "markdown",
   "metadata": {},
   "source": [
    "<img src = \"electroweak.png\" align = \"left\" width = \"400\"></img>"
   ]
  },
  {
   "cell_type": "markdown",
   "metadata": {},
   "source": [
    "<p>The Higgs direction is not uniform along this electroweak torus, it actually twists around it. These twists correspond to the charges of that Higgs direction.</p>\n",
    "<img src = \"higgsfieldelectroweaktwists.png\" align = \"left\" width = \"400\"></img>"
   ]
  },
  {
   "cell_type": "markdown",
   "metadata": {},
   "source": [
    "<p>Although this geometry is very complicated, you can simply count the number of twists the Higgs Field makes around the torus, and plot them relative to the weak charge and hypercharge to form a nice graph.</p>"
   ]
  },
  {
   "cell_type": "markdown",
   "metadata": {},
   "source": [
    "<img src = \"higgsgraph.png\" align = \"left\" width = \"400\"></img>"
   ]
  },
  {
   "cell_type": "markdown",
   "metadata": {},
   "source": [
    "<p>This is how the symmetry of the Electroweak force gets broken. Perpendicular to this Higgs direction is what we call Electric Charge, which makes an angle called the weak mixing angle, and this Electric Charge is made of part hypercharge, and part weak charge. All of the other elementary particles that we know of can be plotted relative to their twists around the Electroweak torus, and we can plot them according to these twists and see their charges.</p>"
   ]
  },
  {
   "cell_type": "markdown",
   "metadata": {},
   "source": [
    "<img src = \"blankgraph.png\" align = \"left\" width = \"400\"></img>"
   ]
  },
  {
   "cell_type": "markdown",
   "metadata": {},
   "source": [
    "<p>Here is our graph of the weak charge and hypercharge.</p>"
   ]
  },
  {
   "cell_type": "markdown",
   "metadata": {},
   "source": [
    "<img src = \"higgsgraph.png\" align = \"left\" width = \"400\"></img>"
   ]
  },
  {
   "cell_type": "markdown",
   "metadata": {},
   "source": [
    "<p>Here is the graph with the three components of the Higgs Field added in.</p>"
   ]
  },
  {
   "cell_type": "markdown",
   "metadata": {},
   "source": [
    "<img src = \"wandzbosons.png\" align = \"left\" width = \"400\"></img>"
   ]
  },
  {
   "cell_type": "markdown",
   "metadata": {},
   "source": [
    "<p>The W Bosons.(The photons and Z<sub>0</sub> do not twist, they are parallel around this torus; so they sit in the center of this diagram).</p>"
   ]
  },
  {
   "cell_type": "markdown",
   "metadata": {},
   "source": [
    "<img src = \"electron.png\" align = \"left\" width = \"400\"></img>"
   ]
  },
  {
   "cell_type": "markdown",
   "metadata": {},
   "source": [
    "<p>The electron, which has four different parts, its left and right part, and the particle and antiparticle.</p>"
   ]
  },
  {
   "cell_type": "markdown",
   "metadata": {},
   "source": [
    "<img src = \"quarksandneutrinos.png\" align = \"left\" width = \"400\"></img>"
   ]
  },
  {
   "cell_type": "markdown",
   "metadata": {},
   "source": [
    "<p>The quarks and neutrinos also have four parts.</p>"
   ]
  },
  {
   "cell_type": "markdown",
   "metadata": {},
   "source": [
    "<br>\n",
    "<p>By now you should have picked up on the fundamental pattern of our universe. There are other particles you may have heard of, such as the bottom and top quarks, but they have the same number of twists as the up and down quarks so there is alot of overlap.</p>"
   ]
  },
  {
   "cell_type": "markdown",
   "metadata": {},
   "source": [
    "<p>You can rotate this diagram by the weak mixing angle, and see how the Higgs particle interacts with all of these particles to give them their mass!</p>\n",
    "<img src = \"mass.png\" align = \"left\" width = \"400\"></img>"
   ]
  },
  {
   "cell_type": "markdown",
   "metadata": {},
   "source": [
    "<p>Let's examine the graph with the Higgs direction added in. As an example, the Higgs direction, when added to the right handed part of the electron, turns into the left handed part of the electron. What is happening is, at each point in space time there is an electron, the electron is bouncing back and forth between it's left and righthanded parts interacting with the Higgs Background to give it mass!</p> "
   ]
  },
  {
   "cell_type": "markdown",
   "metadata": {},
   "source": [
    "<img src = \"higgsdirection.png\" align = \"left\" width = \"400\"></img>"
   ]
  },
  {
   "cell_type": "markdown",
   "metadata": {},
   "source": [
    "<p>This happens for every other massive particle, giving us all of the elementary particles we see!</p>\n",
    "<img src = \"particleswesee.png\" align = \"left\" width = \"400\"></img>"
   ]
  },
  {
   "cell_type": "markdown",
   "metadata": {},
   "source": [
    "<br>\n",
    "<h2>Strong Nuclear Force</h2>"
   ]
  },
  {
   "cell_type": "markdown",
   "metadata": {},
   "source": [
    "<p>As we mentioned earlier, inside this internal elementary particle space, there is another force called the Strong Nuclear force. The strong Nuclear force can also be modeled as a torus, and gravity can be viewed as a hyperbolic torus.</p>"
   ]
  },
  {
   "cell_type": "markdown",
   "metadata": {},
   "source": [
    "<img src = \"forces.png\" align = \"left\" width = \"400\"></img>"
   ]
  },
  {
   "cell_type": "markdown",
   "metadata": {},
   "source": [
    "<p>The quarks also twist around the Strong Nuclear Force torus as well, which creates color charge. Gluons also twist around the strong Torus and carry the strong force. When they interact with the quarks, they change their color, and this is what binds quarks together to give us the atomic nuclei.</p>\n",
    "<img src = \"matter.png\" align = \"left\" width = \"500\"></img>"
   ]
  },
  {
   "cell_type": "markdown",
   "metadata": {},
   "source": [
    "<br>\n",
    "<p>This is how all the matter we know of in the Universe comes to exist...</p>\n",
    "<br>\n",
    "<p>A down quark and two up quarks make a proton of total electric charge +1,<br>An up quark and two down quarks make a neutron with total electric charge of zero,<br>These clump together, bound by the strong force, orbited by electrons, bound by photons, and we see Everything around us in the Universe. All of this described by a sacred geometry.</p>"
   ]
  },
  {
   "cell_type": "markdown",
   "metadata": {},
   "source": [
    "<br>\n",
    "<h2>E8</h2>"
   ]
  },
  {
   "cell_type": "markdown",
   "metadata": {},
   "source": [
    "<br>\n",
    "<h2>Gravity</h2>"
   ]
  },
  {
   "cell_type": "markdown",
   "metadata": {},
   "source": [
    "<br>\n",
    "<h2>Life</h2>"
   ]
  },
  {
   "cell_type": "markdown",
   "metadata": {},
   "source": [
    "<br>\n",
    "<h2>Death</h2>\n",
    "<li>Fermi's Paradox</li>"
   ]
  },
  {
   "cell_type": "code",
   "execution_count": null,
   "metadata": {
    "collapsed": true
   },
   "outputs": [],
   "source": []
  }
 ],
 "metadata": {
  "kernelspec": {
   "display_name": "Python 3",
   "language": "python",
   "name": "python3"
  },
  "language_info": {
   "codemirror_mode": {
    "name": "ipython",
    "version": 3
   },
   "file_extension": ".py",
   "mimetype": "text/x-python",
   "name": "python",
   "nbconvert_exporter": "python",
   "pygments_lexer": "ipython3",
   "version": "3.4.3"
  }
 },
 "nbformat": 4,
 "nbformat_minor": 0
}
