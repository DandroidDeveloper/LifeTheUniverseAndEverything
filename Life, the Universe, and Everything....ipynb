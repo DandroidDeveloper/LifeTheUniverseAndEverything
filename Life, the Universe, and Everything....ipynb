{
 "cells": [
  {
   "cell_type": "markdown",
   "metadata": {},
   "source": [
    "<h1>Life, the Universe, and Everything</h1>"
   ]
  },
  {
   "cell_type": "markdown",
   "metadata": {},
   "source": [
    "<li>A blog post by <a href = \"dandroiddeveloper.github.io\">Daniel Marcoux</a></li>"
   ]
  },
  {
   "cell_type": "markdown",
   "metadata": {},
   "source": [
    "<p>Number 1, this is a blog. No Physics Theories were harmed in the production of this train of thought. Number 2, I abide by the IDGAF licensing agreement. Knowledge should be spread and shared. To me it is one of the only even playing fields we have on this Earth and we should treat it that way. Number 3, in the words of Science Fiction Author Douglas Adams,</p>"
   ]
  },
  {
   "cell_type": "markdown",
   "metadata": {},
   "source": [
    "<img src = \"dontPanic.jpg\" align = \"left\" width = \"600\"></img>"
   ]
  },
  {
   "cell_type": "markdown",
   "metadata": {},
   "source": [
    "<p>\n",
    "\"There is a theory which states that if ever anyone discovers exactly what the Universe is for and why it is here, it will instantly disappear and be replaced by something even more bizarre and inexplicable. There is another theory which states that this has already happened.\" -The Restaraunt at the End of the Universe\n",
    "</p>"
   ]
  },
  {
   "cell_type": "markdown",
   "metadata": {},
   "source": [
    "<br>\n",
    "<br>\n",
    "<br>\n",
    "<h2>The Very Early Universe</h2>\n",
    "<br>\n",
    "<blockquote>“I'm a scientist and I know what constitutes proof. But the reason I call myself by my childhood name is to remind myself that a scientist must also be absolutely like a child. If he sees a thing, he must say that he sees it, whether it was what he thought he was going to see or not. See first, think later, then test. But always see first. Otherwise you will only see what you were expecting. Most scientists forget that.”\n",
    "<br>\n",
    "<br>\n",
    "<cite>-Douglas Adams</cite></blockquote>\n",
    "<br>\n",
    "<p>The very early universe is a subject that is mostly speculative. There are many great theories about what happened before things could happen, but most are just that, great theories seeking validation. That being said, let's do some reasonable speculation!</p>"
   ]
  },
  {
   "cell_type": "markdown",
   "metadata": {},
   "source": [
    "<img src = \"historyOfTheUniverse.png\"></img>"
   ]
  },
  {
   "cell_type": "markdown",
   "metadata": {},
   "source": [
    "<p>Let's see what the accepted human zeitgeist, wikipedia, has to say about the Big Bang.</p>"
   ]
  },
  {
   "cell_type": "markdown",
   "metadata": {},
   "source": [
    "<h4>Early Universe</h4>\n",
    "<li>According to <a href=\"https://en.wikipedia.org/wiki/Chronology_of_the_universe#Very_early_universe\">Wikipedia</a>,\n",
    "</li>\n",
    "<blockquote>\"In the first phase, the very earliest universe was so hot, or energetic, that initially no matter particles existed or could exist perhaps only fleetingly. According to prevailing scientific theories, at this time the distinct forces we see around us today were joined in one unified force. Space-time itself expanded during an inflationary epoch due to the immensity of the energies involved. Gradually the immense energies cooled – still to a temperature inconceivably hot compared to any we see around us now, but sufficiently to allow forces to gradually undergo symmetry breaking, a kind of repeated condensation from one status quo to another, leading finally to the separation of the strong force from the electroweak force and the first particles.\"</blockquote>"
   ]
  },
  {
   "cell_type": "markdown",
   "metadata": {},
   "source": [
    "<h4>Inflationary epoch</h4>\n",
    "<li>Unknown duration, ending &asymp;10−32(?) second after the Big Bang</li>\n",
    "<li><a href=\"https://en.wikipedia.org/wiki/Chronology_of_the_universe#Very_early_universe\">Wikipedia</a></li>\n",
    "<blockquote>\n",
    "\"Cosmic inflation was an era of accelerating expansion produced by a hypothesized field called the inflaton, which would have properties similar to the Higgs field. While decelerating expansion would magnify deviations from homogeneity, making the universe more chaotic, accelerating expansion would make the universe more homogeneous. A sufficiently long period of inflationary expansion in the past could explain the high degree of homogeneity that is observed in the universe today at large scales, even if the state of the universe before inflation was highly disordered.\n",
    "<br>\n",
    "<br>\n",
    "Inflation ended when the inflaton field decayed into ordinary particles in a process called \"reheating\", at which point ordinary Big Bang expansion began. The time of reheating is usually quoted as a time \"after the Big Bang\". This refers to the time that would have passed in traditional (non-inflationary) cosmology between the Big Bang singularity and the universe dropping to the same temperature that was produced by reheating, even though, in inflationary cosmology, the traditional Big Bang did not occur.\n",
    "<br>\n",
    "<br>\n",
    "According to the simplest inflationary models, inflation ended at a temperature corresponding to roughly 10−32 second after the Big Bang. As explained above, this does not imply that the inflationary era lasted less than 10−32 second. In fact, in order to explain the observed homogeneity of the universe, the duration must be longer than 10−32 second. In inflationary cosmology, the earliest meaningful time \"after the Big Bang\" is the time of the end of inflation.\"</blockquote>"
   ]
  },
  {
   "cell_type": "markdown",
   "metadata": {},
   "source": [
    "<h4>Planck Epoch</h4>\n",
    "<li>&asymp;0 to 10−43 seconds after the Big Bang</li>\n",
    "<li><a href=\"https://en.wikipedia.org/wiki/Chronology_of_the_universe#Very_early_universe\">Wikipedia</a></li>\n",
    "<blockquote>\n",
    "\"The Planck epoch is an era in traditional (non-inflationary) big bang cosmology wherein the temperature was so high that the four fundamental forces—electromagnetism, gravitation, weak nuclear interaction, and strong nuclear interaction—were one fundamental force. Little is understood about physics at this temperature; different hypotheses propose different scenarios. Traditional big bang cosmology predicts a gravitational singularity before this time, but this theory relies on general relativity and is expected to break down due to quantum effects.\n",
    "\n",
    "In inflationary cosmology, times before the end of inflation (roughly 10−32 second after the Big Bang) do not follow the traditional big bang timeline.\"</blockquote>"
   ]
  },
  {
   "cell_type": "markdown",
   "metadata": {},
   "source": [
    "<h4>Grand unification epoch</h4>\n",
    "<li>Between &asymp;10−43 second and 10−36 second after the Big Bang</li>\n",
    "<li><a href=\"https://en.wikipedia.org/wiki/Chronology_of_the_universe#Very_early_universe\">Wikipedia</a></li>\n",
    "<blockquote>\n",
    "\"As the universe expanded and cooled, it crossed transition temperatures at which forces separate from each other. These are phase transitions much like condensation and freezing. The grand unification epoch began when gravitation separated from the other forces of nature, which are collectively known as gauge forces. The non-gravitational physics in this epoch would be described by a so-called grand unified theory (GUT). The grand unification epoch ended when the GUT forces further separate into the strong and electroweak forces.\"</blockquote>"
   ]
  },
  {
   "cell_type": "markdown",
   "metadata": {},
   "source": [
    "<h4>Electroweak epoch</h4>\n",
    "<li>Between &asymp;10−36 second (or the end of inflation) and 10−32 second after the Big Bang</li>\n",
    "<li><a href=\"https://en.wikipedia.org/wiki/Chronology_of_the_universe#Very_early_universe\">Wikipedia</a></li>\n",
    "<blockquote>\n",
    "\"According to traditional big bang cosmology, the Electroweak epoch began 10−36 second after the Big Bang, when the temperature of the universe was low enough (1028 K) to separate the strong force from the electroweak force (the name for the unified forces of electromagnetism and the weak interaction). In inflationary cosmology, the electroweak epoch begins when the inflationary epoch ends, at roughly 10−32 second.\"\n",
    "</blockquote>"
   ]
  },
  {
   "cell_type": "markdown",
   "metadata": {},
   "source": [
    "<p>Hmmm. These epochs seem abstract from my point of view. I like to think of things from their atomic elements outwards, and our observable universe has some atomic elements called particles that form a really symmetrical basis for all of this physics stuff like...atoms... Let's see if thinking about the big bang in terms of particles provides some clarity.</p>"
   ]
  },
  {
   "cell_type": "markdown",
   "metadata": {},
   "source": [
    "<p>There is a fantastic website that was created around work by Physicist <a href = \"http://sifter.org/~aglisi/\">Garrett Lisi</a> that lets you explore how the fundamental particles <a href = \"http://deferentialgeometry.org/epe/epe6/\"></a> interact with eachother in a 3 dimensional chart space.</p>\n",
    "<br>\n",
    "<p>The <a href = \"http://deferentialgeometry.org/epe/\">website</a> provides a comprehensive <a href = \"http://deferentialgeometry.org/epe/Legend.png\">list</a> of the fundamental particles of our universe, in terms of the GUT.</p>\n",
    "<br>\n",
    "<img src = \"particleList.png\" align = \"left\" width = \"600\"></img>"
   ]
  },
  {
   "cell_type": "markdown",
   "metadata": {},
   "source": [
    "<h4>Elementary Particles</h4>\n",
    "<li>As Garrett Lisi states on his website,</li>\n",
    "<br>\n",
    "<blockquote>\n",
    "\"Every known elementary particle is identified by its charges with respect to the electromagnetic, weak, strong, and gravitational forces. Electrons have electric charge -1, up quarks 2/3, down quarks -1/3, and neutrinos 0, with antiparticles having opposite electric charges. In the Standard Model these electric charges are a combination of the particles' hypercharge, Y, and weak charge, W.\n",
    "<br>\n",
    "<br>\n",
    "These charges correspond to the geometry of Lie groups, and unified models of particle physics correspond to how the Lie groups of the Standard Model and gravity embed in larger Lie groups, up to the largest simple exceptional Lie group, E8.\"\n",
    "</blockquote>"
   ]
  },
  {
   "cell_type": "markdown",
   "metadata": {},
   "source": [
    "<p>Now let's see if we can picture the big bang in terms of these elementary particles.</p>\n",
    "<br>\n",
    "<br>\n",
    "<h4>Early Universe Revisited</h4>"
   ]
  },
  {
   "cell_type": "markdown",
   "metadata": {},
   "source": [
    "<img src = \"cosmicHistory.jpg\" align = \"left\" width = \"600\"></img>"
   ]
  },
  {
   "cell_type": "markdown",
   "metadata": {},
   "source": [
    "<h4>Supersymmetry Breaking</h4>\n",
    "<li><a href=\"https://en.wikipedia.org/wiki/Chronology_of_the_universe#Very_early_universe\">Wikipedia</a></li>\n",
    "<blockquote>\n",
    "\"If supersymmetry is a property of our universe, then it must be broken at an energy that is no lower than 1 TeV, the electroweak symmetry scale. The masses of particles and their superpartners would then no longer be equal, which could explain why no superpartners of known particles have ever been observed.\"\n",
    "</blockquote>"
   ]
  },
  {
   "cell_type": "markdown",
   "metadata": {},
   "source": [
    "<h4>Time</h4>\n",
    "<p>Imagine you place a pencil on it's tip.</p>"
   ]
  },
  {
   "cell_type": "markdown",
   "metadata": {},
   "source": [
    "<img src = \"symmetry.png\" align = \"left\" width = \"400\"></img>"
   ]
  },
  {
   "cell_type": "markdown",
   "metadata": {},
   "source": [
    "<p>When you let go, the pencil will inevitably fall. When the pencil falls, it provides us with a sense of direction and scale. We can say move an arbitrary number of pencil lengths some arbitrary direction away from the pencil, and end up at a destination relative to the pencil. This is how symmetry breaking works in our Universe.</p>"
   ]
  },
  {
   "cell_type": "markdown",
   "metadata": {},
   "source": [
    "<br>\n",
    "<p>Space is comprised of an X, Y, and Z direction, and exists in the flow of time, T. This gives us the four dimensions we experience as reality. Now imagine this four dimensional fabric of space time without space or time in it.</p>"
   ]
  },
  {
   "cell_type": "markdown",
   "metadata": {},
   "source": [
    "<img src = \"space.jpg\" align = \"left\" width = \"400\"></img>"
   ]
  },
  {
   "cell_type": "markdown",
   "metadata": {},
   "source": [
    "<p>At the \"time\" of the Big Bang there was a super hot, super dense singularity, and physicists believe that, much like our pencil example, time spontaneously chose a direction and broke symmetry to begin our universe.</p>\n",
    "<img src = \"spacetime.png\" align = \"left\" width = \"400\"></img>"
   ]
  },
  {
   "cell_type": "markdown",
   "metadata": {},
   "source": [
    "<br>\n",
    "<p>When this singularity chose a direction for the flow of time, it spewed its contents in that direction, and if we fast-forward approximately fourteen billion years, we have the conditions for matter, and if we move perpendicular in space to the flow of time, we arrive at a tiny blue planet called Earth.</p>"
   ]
  },
  {
   "cell_type": "markdown",
   "metadata": {},
   "source": [
    "<img src = \"earth.jpg\" align = \"left\" width = \"400\"></img>"
   ]
  },
  {
   "cell_type": "markdown",
   "metadata": {},
   "source": [
    "<br>\n",
    "<p>As Garrett Lisi explains in his <a href = \"https://www.youtube.com/watch?v=wfALJzn1hE8\">Ted Talk</a> on particle physics however,</p>\n",
    "<blockquote>\"The flow of time is not linear. Matter actually bends time and causes time to ripple, we observe these ripples as gravitational waves. In fact, the Earth is so dense that it actually bends the flow of time towards it's center to give us the gravity that keeps us from flying into space!\"</blockquote>"
   ]
  },
  {
   "cell_type": "markdown",
   "metadata": {},
   "source": [
    "<p>So what is this matter stuff...</p>\n",
    "<br>\n",
    "<p>According to Lisi,</p>\n",
    "<blockquote>\"At each point in space time there is another internal space, with many dimensions, that are perpendicular to our three dimensions of space X, Y, and Z. This internal space is attached to space time and moves over it. For each different direction in this inner space, there is a corresponding different kind of elementary particle that can exist at a point in space time!\"</blockquote>"
   ]
  },
  {
   "cell_type": "markdown",
   "metadata": {},
   "source": [
    "<h4>Electroweak symmetry breaking and the quark epoch</h4>\n",
    "<li><a href=\"https://en.wikipedia.org/wiki/Chronology_of_the_universe#Very_early_universe\">Wikipedia</a></li>\n",
    "<li>Between &asymp;10−12 second and 10−6 second after the Big Bang\n",
    "</li>\n",
    "<blockquote>\n",
    "\"As the universe's temperature falls below a certain very high energy level, it is believed that the Higgs field spontaneously acquires a vacuum expectation value, which breaks electroweak gauge symmetry. This has two related effects:\n",
    "<br>\n",
    "<br>\n",
    "The weak force and electromagnetic force, and their respective bosons (the W and Z bosons and photon) manifest differently in the present universe, with different ranges;\n",
    "Via the Higgs mechanism, all elementary particles interacting with the Higgs field become massive, having been massless at higher energy levels.\n",
    "At the end of this epoch, the fundamental interactions of gravitation, electromagnetism, the strong interaction and the weak interaction have now taken their present forms, and fundamental particles have mass, but the temperature of the universe is still too high to allow quarks to bind together to form hadrons.\"\n",
    "</blockquote>"
   ]
  },
  {
   "cell_type": "markdown",
   "metadata": {},
   "source": [
    "<h2>Higgs Field</h2>\n",
    "<br>\n",
    "<p>Lisi goes on in his <a href=\"https://www.youtube.com/watch?v=wfALJzn1hE8\">Ted Talk</a> to explain how the higgs field give the massive particles their mass, and does a great job describing how all elementary particles exist together in one sacred geometrical figure, the E8 Lie Group.</p>\n",
    "<img src = \"innerspace.png\" align = \"left\" width = \"400\"></img>"
   ]
  },
  {
   "cell_type": "markdown",
   "metadata": {},
   "source": [
    "<p>\"One very important part of this inner space are the four dimensions corresponding to the Higgs Field. Imagine the balls above to be perfectly smooth, 4d surfaces. Via symmetry breaking, we choose one direction to be special. This is very similar to how the flow of time becomes special in space time, but we are dealing with the internal space of particle physics now.\"</p>"
   ]
  },
  {
   "cell_type": "markdown",
   "metadata": {},
   "source": [
    "<img src = \"direction.png\" align = \"left\" width = \"200\">"
   ]
  },
  {
   "cell_type": "markdown",
   "metadata": {},
   "source": [
    "<br>\n",
    "<p>\"With the higgs direction picked out, we now have what is referred to as the Higgs Background.\"</p>\n",
    "<img src = \"higgsfield.png\" align = \"left\" width = \"400\"></img>"
   ]
  },
  {
   "cell_type": "markdown",
   "metadata": {},
   "source": [
    "<br>\n",
    "<p>\"Just like time can ripple, this Higgs Field can also ripple. A ripple, in the direction of the Higgs Field over space time, creates what we see as a Higgs Boson! This particle has actually been popped into existence in the Large Hadron Collider at Geneva.\"</p>"
   ]
  },
  {
   "cell_type": "markdown",
   "metadata": {},
   "source": [
    "<br>\n",
    "<p>\"To understand how this validated theory explains how particles get mass, you have to understand how the Higgs shape twists around the inner space of elementary particles, specifically in regards to the Electroweak Force...\"</p>"
   ]
  },
  {
   "cell_type": "markdown",
   "metadata": {},
   "source": [
    "<p>\"Enter the Strong Nuclear Force, the Electroweak Force, and Gravity!\"</p>\n",
    "<img src = \"innerspacecomplete.png\" align = \"left\" width = \"400\"></img>"
   ]
  },
  {
   "cell_type": "markdown",
   "metadata": {},
   "source": [
    "<cite>-<a href=\"https://www.youtube.com/watch?v=wfALJzn1hE8\">Ted X Maui</a>,Garrett Lixi</cite>"
   ]
  },
  {
   "cell_type": "markdown",
   "metadata": {},
   "source": [
    "<h2>Electroweak Force</h2>\n",
    "<p>\"The Electroweak Force is comprised of weak charge, W and hypercharge, &gamma;.\"</p>"
   ]
  },
  {
   "cell_type": "markdown",
   "metadata": {},
   "source": [
    "<img src = \"electroweak.png\" align = \"left\" width = \"400\"></img>"
   ]
  },
  {
   "cell_type": "markdown",
   "metadata": {},
   "source": [
    "<p>\"The Higgs direction is not uniform along this electroweak torus, it actually twists around it. These twists correspond to the charges of that Higgs direction.\"</p>\n",
    "<img src = \"higgsfieldelectroweaktwists.png\" align = \"left\" width = \"400\"></img>"
   ]
  },
  {
   "cell_type": "markdown",
   "metadata": {},
   "source": [
    "<p>\"Although this geometry is very complicated, you can simply count the number of twists the Higgs Field makes around the torus, and plot them relative to the weak charge and hypercharge to form a nice graph.\"</p>"
   ]
  },
  {
   "cell_type": "markdown",
   "metadata": {},
   "source": [
    "<img src = \"higgsgraph.png\" align = \"left\" width = \"400\"></img>"
   ]
  },
  {
   "cell_type": "markdown",
   "metadata": {},
   "source": [
    "<p>\"This is how the symmetry of the Electroweak force gets broken. Perpendicular to this Higgs direction is what we call Electric Charge, which makes an angle called the weak mixing angle, and this Electric Charge is made of part hypercharge, and part weak charge. All of the other elementary particles that we know of can be plotted relative to their twists around the Electroweak torus, and we can plot them according to these twists and see their charges.\"</p>"
   ]
  },
  {
   "cell_type": "markdown",
   "metadata": {},
   "source": [
    "<img src = \"blankgraph.png\" align = \"left\" width = \"400\"></img>"
   ]
  },
  {
   "cell_type": "markdown",
   "metadata": {},
   "source": [
    "<p>\"Here is our graph of the weak charge and hypercharge.\"</p>"
   ]
  },
  {
   "cell_type": "markdown",
   "metadata": {},
   "source": [
    "<img src = \"higgsgraph.png\" align = \"left\" width = \"400\"></img>"
   ]
  },
  {
   "cell_type": "markdown",
   "metadata": {},
   "source": [
    "<p>\"Here is the graph with the three components of the Higgs Field added in.\"</p>"
   ]
  },
  {
   "cell_type": "markdown",
   "metadata": {},
   "source": [
    "<img src = \"wandzbosons.png\" align = \"left\" width = \"400\"></img>"
   ]
  },
  {
   "cell_type": "markdown",
   "metadata": {},
   "source": [
    "<p>\"The W Bosons.(The photons and Z<sub>0</sub> do not twist, they are parallel around this torus; so they sit in the center of this diagram).\"</p>"
   ]
  },
  {
   "cell_type": "markdown",
   "metadata": {},
   "source": [
    "<img src = \"electron.png\" align = \"left\" width = \"400\"></img>"
   ]
  },
  {
   "cell_type": "markdown",
   "metadata": {},
   "source": [
    "<p>\"The electron, which has four different parts, its left and right part, and the particle and antiparticle.\"</p>"
   ]
  },
  {
   "cell_type": "markdown",
   "metadata": {},
   "source": [
    "<img src = \"quarksandneutrinos.png\" align = \"left\" width = \"400\"></img>"
   ]
  },
  {
   "cell_type": "markdown",
   "metadata": {},
   "source": [
    "<p>\"The quarks and neutrinos also have four parts.\"</p>"
   ]
  },
  {
   "cell_type": "markdown",
   "metadata": {},
   "source": [
    "<br>\n",
    "<p>\"By now you should have picked up on the fundamental pattern of our universe. There are other particles you may have heard of, such as the bottom and top quarks, but they have the same number of twists as the up and down quarks so there is alot of overlap.\"</p>"
   ]
  },
  {
   "cell_type": "markdown",
   "metadata": {},
   "source": [
    "<p>\"You can rotate this diagram by the weak mixing angle, and see how the Higgs particle interacts with all of these particles to give them their mass!\"</p>\n",
    "<img src = \"mass.png\" align = \"left\" width = \"400\"></img>"
   ]
  },
  {
   "cell_type": "markdown",
   "metadata": {},
   "source": [
    "<p>\"Let's examine the graph with the Higgs direction added in. As an example, the Higgs direction, when added to the right handed part of the electron, turns into the left handed part of the electron. What is happening is, at each point in space time there is an electron, the electron is bouncing back and forth between it's left and righthanded parts interacting with the Higgs Background to give it mass!\"</p> "
   ]
  },
  {
   "cell_type": "markdown",
   "metadata": {},
   "source": [
    "<img src = \"higgsdirection.png\" align = \"left\" width = \"400\"></img>"
   ]
  },
  {
   "cell_type": "markdown",
   "metadata": {},
   "source": [
    "<p>\"This happens for every other massive particle, giving us all of the elementary particles we see!\"</p>\n",
    "<img src = \"particleswesee.png\" align = \"left\" width = \"400\"></img>"
   ]
  },
  {
   "cell_type": "markdown",
   "metadata": {},
   "source": [
    "<cite>-<a href=\"https://www.youtube.com/watch?v=wfALJzn1hE8\">Ted X Maui</a>,Garrett Lixi</cite>"
   ]
  },
  {
   "cell_type": "markdown",
   "metadata": {},
   "source": [
    "<h4>Hadron epoch</h4>\n",
    "<li>Between &asymp;10−6 second and 1 second after the Big Bang</li>\n",
    "<li><a href=\"https://en.wikipedia.org/wiki/Chronology_of_the_universe#Very_early_universe\">Wikipedia</a>\n",
    "<blockquote>\n",
    "\"The quark–gluon plasma that composes the universe cools until hadrons, including baryons such as protons and neutrons, can form. At approximately 1 second after the Big Bang neutrinos decouple and begin traveling freely through space. This cosmic neutrino background, while unlikely to ever be observed in detail since the neutrino energies are very low, is analogous to the cosmic microwave background that was emitted much later. (See above regarding the quark–gluon plasma, under the String Theory epoch.) However, there is strong indirect evidence that the cosmic neutrino background exists, both from Big Bang nucleosynthesis predictions of the helium abundance, and from anisotropies in the cosmic microwave background.\"\n",
    "</blockquote>\n",
    "<h4>Lepton epoch</h4>\n",
    "<li>Between 1 second and 10 seconds after the Big Bang</li>\n",
    "<li><a href=\"https://en.wikipedia.org/wiki/Chronology_of_the_universe#Very_early_universe\">Wikipedia</a></li>\n",
    "<blockquote>\n",
    "\"The majority of hadrons and anti-hadrons annihilate each other at the end of the hadron epoch, leaving leptons and anti-leptons dominating the mass of the universe. Approximately 10 seconds after the Big Bang the temperature of the universe falls to the point at which new lepton/anti-lepton pairs are no longer created and most leptons and anti-leptons are eliminated in annihilation reactions, leaving a small residue of leptons.\"\n",
    "</blockquote>\n",
    "\n",
    "<h4>Photon epoch</h4>\n",
    "<li>Between 10 seconds and 380,000 years after the Big Bang</li>\n",
    "<li><a href=\"https://en.wikipedia.org/wiki/Chronology_of_the_universe#Very_early_universe\">Wikipedia</a></li>\n",
    "<blockquote>\n",
    "\"After most leptons and anti-leptons are annihilated at the end of the lepton epoch the energy of the universe is dominated by photons. These photons are still interacting frequently with charged protons, electrons and (eventually) nuclei, and continue to do so for the next 380,000 years.\"\n",
    "</blockquote>\n",
    "\n",
    "<h4>Nucleosynthesis</h4>\n",
    "<li>Between 3 minutes and 20 minutes after the Big Bang</li>\n",
    "<li><a href=\"https://en.wikipedia.org/wiki/Chronology_of_the_universe#Very_early_universe\">Wikipedia</a></li>\n",
    "<blockquote>\n",
    "\"During the photon epoch the temperature of the universe falls to the point where atomic nuclei can begin to form. Protons (hydrogen ions) and neutrons begin to combine into atomic nuclei in the process of nuclear fusion. Free neutrons combine with protons to form deuterium. Deuterium rapidly fuses into helium-4. Nucleosynthesis only lasts for about seventeen minutes, since the temperature and density of the universe has fallen to the point where nuclear fusion cannot continue. By this time, all neutrons have been incorporated into helium nuclei. This leaves about three times more hydrogen than helium-4 (by mass) and only trace quantities of other light nuclei.\"\n",
    "</blockquote>\n",
    "\n",
    "<h4>Matter domination</h4>\n",
    "<li>70,000 years after the Big Bang</li>\n",
    "<li><a href=\"https://en.wikipedia.org/wiki/Chronology_of_the_universe#Very_early_universe\">Wikipedia</a></li>\n",
    "<blockquote>\n",
    "\"At this time, the densities of non-relativistic matter (atomic nuclei) and relativistic radiation (photons) are equal. The Jeans length, which determines the smallest structures that can form (due to competition between gravitational attraction and pressure effects), begins to fall and perturbations, instead of being wiped out by free-streaming radiation, can begin to grow in amplitude.\n",
    "<br>\n",
    "<br>\n",
    "According to ΛCDM, at this stage, cold dark matter dominates, paving the way for gravitational collapse to amplify the tiny inhomogeneities left by cosmic inflation, making dense regions denser and rarefied regions more rarefied. However, because present theories as to the nature of dark matter are inconclusive, there is as yet no consensus as to its origin at earlier times, as currently exist for baryonic matter.\"\n",
    "</blockquote>\n",
    "\n",
    "<h4>Recombination</h4>\n",
    "<li>ca. 377,000 years after the Big Bang</li>\n",
    "<li><a href=\"https://en.wikipedia.org/wiki/Chronology_of_the_universe#Very_early_universe\">Wikipedia</a></li>\n",
    "<blockquote>\n",
    "\"9 year WMAP data (2012) shows the cosmic microwave background radiation variations throughout the universe from our perspective, though the actual variations are much smoother than the diagram suggests.\n",
    "<br>\n",
    "<br>\n",
    "Hydrogen and helium atoms begin to form as the density of the universe falls. This is thought to have occurred about 377,000 years after the Big Bang. Hydrogen and helium are at the beginning ionized, i.e., no electrons are bound to the nuclei, which (containing positively charged protons) are therefore electrically charged (+1 and +2 respectively). As the universe cools down, the electrons get captured by the ions, forming electrically neutral atoms. This process is relatively fast (and faster for the helium than for the hydrogen), and is known as recombination. \n",
    "<br>\n",
    "<br>\n",
    "At the end of recombination, most of the protons in the universe are bound up in neutral atoms. Therefore, the photons' mean free path becomes effectively infinite and the photons can now travel freely (see Thomson scattering): the universe has become transparent. This cosmic event is usually referred to as decoupling.\n",
    "<br>\n",
    "<br>\n",
    "The photons present at the time of decoupling are the same photons that we see in the cosmic microwave background (CMB) radiation, after being greatly cooled by the expansion of the universe. Around the same time, existing pressure waves within the electron-baryon plasma — known as baryon acoustic oscillations — became embedded in the distribution of matter as it condensed, giving rise to a very slight preference in distribution of large scale objects. Therefore the cosmic microwave background is a picture of the universe at the end of this epoch including the tiny fluctuations generated during inflation (see diagram), and the spread of objects such as galaxies in the universe is an indication of the scale and size of the universe as it developed over time.\"\n",
    "</blockquote>"
   ]
  },
  {
   "cell_type": "markdown",
   "metadata": {},
   "source": [
    "<br>\n",
    "<h2>Strong Nuclear Force</h2>"
   ]
  },
  {
   "cell_type": "markdown",
   "metadata": {},
   "source": [
    "<p>\"As we mentioned earlier, inside this internal elementary particle space, there is another force called the Strong Nuclear force. The strong force is what hold the atoms nucleus together and The strong Nuclear force can also be modeled as a torus, and gravity can be viewed as a hyperbolic torus.\"</p>"
   ]
  },
  {
   "cell_type": "markdown",
   "metadata": {},
   "source": [
    "<img src = \"forces.png\" align = \"left\" width = \"400\"></img>"
   ]
  },
  {
   "cell_type": "markdown",
   "metadata": {},
   "source": [
    "<p>\"The quarks also twist around the Strong Nuclear Force torus as well, which creates color charge. Gluons also twist around the strong Torus and carry the strong force. When they interact with the quarks, they change their color, and this is what binds quarks together to give us the atomic nuclei.\"</p>\n",
    "<img src = \"matter.png\" align = \"left\" width = \"500\"></img>"
   ]
  },
  {
   "cell_type": "markdown",
   "metadata": {},
   "source": [
    "<br>\n",
    "<p>\"This is how all the matter we know of in the Universe comes to exist...</p>\n",
    "<br>\n",
    "<p>A down quark and two up quarks make a proton of total electric charge +1,<br>An up quark and two down quarks make a neutron with total electric charge of zero,<br>These clump together, bound by the strong force, orbited by electrons, bound by photons, and we see Everything around us in the Universe. All of this described by a sacred geometry.\"</p>"
   ]
  },
  {
   "cell_type": "markdown",
   "metadata": {},
   "source": [
    "<cite>-<a href=\"https://www.youtube.com/watch?v=wfALJzn1hE8\">Ted X Maui</a>,Garrett Lixi</cite>"
   ]
  },
  {
   "cell_type": "markdown",
   "metadata": {},
   "source": [
    "<br>\n",
    "<h2>E8</h2>"
   ]
  },
  {
   "cell_type": "markdown",
   "metadata": {},
   "source": [
    "<br>\n",
    "<h2>Gravity</h2>"
   ]
  },
  {
   "cell_type": "markdown",
   "metadata": {},
   "source": [
    "<br>\n",
    "<h2>Life</h2>"
   ]
  },
  {
   "cell_type": "markdown",
   "metadata": {},
   "source": [
    "<h4>Habitable epoch</h4>\n",
    "<li><a href=\"https://en.wikipedia.org/wiki/Chronology_of_the_universe#Very_early_universe\">Wikipedia</a></li>\n",
    "<blockquote>\n",
    "\"The chemistry of life may have begun shortly after the Big Bang, 13.8 billion years ago, during a habitable epoch when the Universe was only 10-17 million years old.\"\n",
    "</blockquote>"
   ]
  },
  {
   "cell_type": "markdown",
   "metadata": {},
   "source": [
    "<h4>Structural Formation</h4>\n",
    "<li>&asymp;14 billion years after the Big Bang</li>\n",
    "<li><a href = \"https://en.wikipedia.org/wiki/Chronology_of_the_universe#Very_early_universe\">Wikipedia</a></li>\n",
    "<blockquote>\n",
    "\"Structure formation in the big bang model proceeds hierarchically, with smaller structures forming before larger ones. The first structures to form are quasars, which are thought to be bright, early active galaxies, and population III stars. Before this epoch, the evolution of the universe could be understood through linear cosmological perturbation theory: that is, all structures could be understood as small deviations from a perfect homogeneous universe. This is computationally relatively easy to study. At this point non-linear structures begin to form, and the computational problem becomes much more difficult, involving, for example, N-body simulations with billions of particles.\"\n",
    "</blockquote>\n",
    "\n",
    "<h4>Reionization</h4>\n",
    "<li>&asymp;150 million to 1 billion years after the Big Bang</li>\n",
    "<li><a href = \"https://en.wikipedia.org/wiki/Chronology_of_the_universe#Very_early_universe\">Wikipedia</a></li>\n",
    "<blockquote>\n",
    "\"The first stars and quasars form from gravitational collapse. The intense radiation they emit reionizes the surrounding universe. From this point on, most of the universe is composed of plasma.\"\n",
    "</blockquote>\n",
    "\n",
    "\n",
    "<h4>Formation of Stars</h4>\n",
    "<li><a href = \"https://en.wikipedia.org/wiki/Chronology_of_the_universe#Very_early_universe\">Wikipedia</a></li>\n",
    "<blockquote>\n",
    "\"The first stars, most likely Population III stars, form and start the process of turning the light elements that were formed in the Big Bang (hydrogen, helium and lithium) into heavier elements. However, as yet there have been no observed Population III stars, and understanding of them is currently based on computational models of their formation and evolution. Fortunately observations of the Cosmic Microwave Background radiation can be used to date when star formation began in earnest. Analysis of such observations made by the European Space Agency's Planck telescope, as reported by BBC News in early February, 2015, concludes that the first generation of stars lit up 560 million years after the Big Bang.\" </blockquote>\n",
    "\n",
    "<h4>Formation of Galaxies</h4>\n",
    "<li><a href = \"https://en.wikipedia.org/wiki/Chronology_of_the_universe#Very_early_universe\">Wikipedia</a></li>\n",
    "\n",
    "<blockquote>\n",
    "\"Large volumes of matter collapse to form a galaxy. Population II stars are formed early on in this process, with Population I stars formed later.\n",
    "<br>\n",
    "<br>\n",
    "Johannes Schedler's project has identified a quasar CFHQS 1641+3755 at 12.7 billion light-years away, when the universe was just 7% of its present age.\n",
    "<br>\n",
    "<br>\n",
    "On July 11, 2007, using the 10-metre Keck II telescope on Mauna Kea, Richard Ellis of the California Institute of Technology at Pasadena and his team found six star forming galaxies about 13.2 billion light years away and therefore created when the universe was only 500 million years old. Only about 10 of these extremely early objects are currently known. More recent observations have shown these ages to be shorter than previously indicated. The most distant galaxy observed as of October 2013 has been reported to be 13.1 billion light years away.\n",
    "<br>\n",
    "<br>\n",
    "The Hubble Ultra Deep Field shows a number of small galaxies merging to form larger ones, at 13 billion light years, when the universe was only 5% its current age. This age estimate is now believed to be slightly shorter.\n",
    "<br>\n",
    "<br>\n",
    "Based upon the emerging science of nucleocosmochronology, the Galactic thin disk of the Milky Way is estimated to have been formed 8.8 ± 1.7 billion years ago.\"\n",
    "</blockquote>\n",
    "\n",
    "<h4>Formation of Groups, Clusters and Superclusters</h4>\n",
    "<li><a href = \"https://en.wikipedia.org/wiki/Chronology_of_the_universe#Very_early_universe\">Wikipedia</a></li>\n",
    "\n",
    "<blockquote>\n",
    "\"Gravitational attraction pulls galaxies towards each other to form groups, clusters and superclusters.\"\n",
    "</blockquote>\n",
    "\n",
    "<h4>Formation of the Solar System</h4>\n",
    "<li>&asymp;9 billion years after the Big Bang</li>\n",
    "<li><a href = \"https://en.wikipedia.org/wiki/Chronology_of_the_universe#Very_early_universe\">Wikipedia</a></li>\n",
    "\n",
    "<blockquote>\n",
    "\"The Solar System began forming about 4.6 billion years ago, or about 9 billion years after the Big Bang. A fragment of a molecular cloud made mostly of hydrogen and traces of other elements began to collapse, forming a large sphere in the center which would become the Sun, as well as a surrounding disk. The surrounding accretion disk would coalesce into a multitude of smaller objects that would become planets, asteroids, and comets. The Sun is a late-generation star, and the Solar System incorporates matter created by previous generations of stars.\"\n",
    "</blockquote>\n"
   ]
  },
  {
   "cell_type": "markdown",
   "metadata": {},
   "source": [
    "<br>\n",
    "<h2>Death</h2>\n",
    "<li>Fermi's Paradox</li>"
   ]
  }
 ],
 "metadata": {
  "kernelspec": {
   "display_name": "Python 3",
   "language": "python",
   "name": "python3"
  },
  "language_info": {
   "codemirror_mode": {
    "name": "ipython",
    "version": 3
   },
   "file_extension": ".py",
   "mimetype": "text/x-python",
   "name": "python",
   "nbconvert_exporter": "python",
   "pygments_lexer": "ipython3",
   "version": "3.4.3"
  }
 },
 "nbformat": 4,
 "nbformat_minor": 0
}
